{
  "nbformat": 4,
  "nbformat_minor": 0,
  "metadata": {
    "colab": {
      "name": "ANN with pytorch and skorch.ipynb",
      "provenance": [],
      "collapsed_sections": [],
      "authorship_tag": "ABX9TyNKSnNW+G6JPiSm8eY7PTA0",
      "include_colab_link": true
    },
    "kernelspec": {
      "name": "python3",
      "display_name": "Python 3"
    },
    "language_info": {
      "name": "python"
    },
    "accelerator": "GPU"
  },
  "cells": [
    {
      "cell_type": "markdown",
      "metadata": {
        "id": "view-in-github",
        "colab_type": "text"
      },
      "source": [
        "<a href=\"https://colab.research.google.com/github/naotoo1/ANN-ddc-with-Pytorch-and-Skorch/blob/main/ANN_with_pytorch_and_skorch.ipynb\" target=\"_parent\"><img src=\"https://colab.research.google.com/assets/colab-badge.svg\" alt=\"Open In Colab\"/></a>"
      ]
    },
    {
      "cell_type": "code",
      "source": [
        "!pip install -U skorch"
      ],
      "metadata": {
        "colab": {
          "base_uri": "https://localhost:8080/"
        },
        "id": "mCxjaYkUCbE0",
        "outputId": "ab2a9b79-8841-43c8-efb7-48648a2282a3"
      },
      "execution_count": 1,
      "outputs": [
        {
          "output_type": "stream",
          "name": "stdout",
          "text": [
            "Collecting skorch\n",
            "  Downloading skorch-0.11.0-py3-none-any.whl (155 kB)\n",
            "\u001b[?25l\r\u001b[K     |██▏                             | 10 kB 19.9 MB/s eta 0:00:01\r\u001b[K     |████▎                           | 20 kB 24.0 MB/s eta 0:00:01\r\u001b[K     |██████▍                         | 30 kB 24.4 MB/s eta 0:00:01\r\u001b[K     |████████▌                       | 40 kB 18.7 MB/s eta 0:00:01\r\u001b[K     |██████████▋                     | 51 kB 12.1 MB/s eta 0:00:01\r\u001b[K     |████████████▊                   | 61 kB 13.8 MB/s eta 0:00:01\r\u001b[K     |██████████████▉                 | 71 kB 12.8 MB/s eta 0:00:01\r\u001b[K     |█████████████████               | 81 kB 12.5 MB/s eta 0:00:01\r\u001b[K     |███████████████████             | 92 kB 13.5 MB/s eta 0:00:01\r\u001b[K     |█████████████████████▏          | 102 kB 12.6 MB/s eta 0:00:01\r\u001b[K     |███████████████████████▎        | 112 kB 12.6 MB/s eta 0:00:01\r\u001b[K     |█████████████████████████▍      | 122 kB 12.6 MB/s eta 0:00:01\r\u001b[K     |███████████████████████████▌    | 133 kB 12.6 MB/s eta 0:00:01\r\u001b[K     |█████████████████████████████▋  | 143 kB 12.6 MB/s eta 0:00:01\r\u001b[K     |███████████████████████████████▊| 153 kB 12.6 MB/s eta 0:00:01\r\u001b[K     |████████████████████████████████| 155 kB 12.6 MB/s \n",
            "\u001b[?25hRequirement already satisfied: tabulate>=0.7.7 in /usr/local/lib/python3.7/dist-packages (from skorch) (0.8.9)\n",
            "Requirement already satisfied: tqdm>=4.14.0 in /usr/local/lib/python3.7/dist-packages (from skorch) (4.64.0)\n",
            "Requirement already satisfied: scipy>=1.1.0 in /usr/local/lib/python3.7/dist-packages (from skorch) (1.4.1)\n",
            "Requirement already satisfied: numpy>=1.13.3 in /usr/local/lib/python3.7/dist-packages (from skorch) (1.21.6)\n",
            "Requirement already satisfied: scikit-learn>=0.19.1 in /usr/local/lib/python3.7/dist-packages (from skorch) (1.0.2)\n",
            "Requirement already satisfied: threadpoolctl>=2.0.0 in /usr/local/lib/python3.7/dist-packages (from scikit-learn>=0.19.1->skorch) (3.1.0)\n",
            "Requirement already satisfied: joblib>=0.11 in /usr/local/lib/python3.7/dist-packages (from scikit-learn>=0.19.1->skorch) (1.1.0)\n",
            "Installing collected packages: skorch\n",
            "Successfully installed skorch-0.11.0\n"
          ]
        }
      ]
    },
    {
      "cell_type": "markdown",
      "source": [
        "**Import Libraries**"
      ],
      "metadata": {
        "id": "sBh-Ai6PKuyv"
      }
    },
    {
      "cell_type": "code",
      "execution_count": 2,
      "metadata": {
        "id": "640H3-bl_mXs"
      },
      "outputs": [],
      "source": [
        "import torch\n",
        "import numpy as np\n",
        "import pandas as pd\n",
        "import seaborn as sns\n",
        "from sklearn.datasets import load_breast_cancer\n",
        "import matplotlib.pyplot as plt\n",
        "from sklearn.model_selection import train_test_split\n",
        "import torch.nn as nn\n",
        "import torch.nn.functional as F\n",
        "from skorch import NeuralNetClassifier\n",
        "from sklearn.metrics import classification_report, confusion_matrix, accuracy_score"
      ]
    },
    {
      "cell_type": "markdown",
      "source": [
        "**Import Data set** **bold text**"
      ],
      "metadata": {
        "id": "YQkwQTXULD3g"
      }
    },
    {
      "cell_type": "code",
      "source": [
        "data = pd.read_csv('pima-indians-diabetes.csv')\n"
      ],
      "metadata": {
        "id": "Y9-XRai6_tnE"
      },
      "execution_count": 3,
      "outputs": []
    },
    {
      "cell_type": "markdown",
      "source": [
        "**Check null values**"
      ],
      "metadata": {
        "id": "7ZkM66q2LcuH"
      }
    },
    {
      "cell_type": "code",
      "source": [
        "data.isnull().sum()"
      ],
      "metadata": {
        "colab": {
          "base_uri": "https://localhost:8080/"
        },
        "id": "76YbnN2Y_zjx",
        "outputId": "51033b6a-a96e-4f66-fdee-d5eaeaed6195"
      },
      "execution_count": 4,
      "outputs": [
        {
          "output_type": "execute_result",
          "data": {
            "text/plain": [
              "pregnancies                 0\n",
              "Glucose                     0\n",
              "BloodPressure               0\n",
              "SkinThicness                0\n",
              "Insulin                     0\n",
              "BMI                         0\n",
              "DiabetesPedigreeFunction    0\n",
              "Age                         0\n",
              "Outcome                     0\n",
              "dtype: int64"
            ]
          },
          "metadata": {},
          "execution_count": 4
        }
      ]
    },
    {
      "cell_type": "markdown",
      "source": [
        "**Split data**"
      ],
      "metadata": {
        "id": "gX-w-sqSLUYz"
      }
    },
    {
      "cell_type": "code",
      "source": [
        "X = data.drop('Outcome', axis=1).values\n",
        "y = data['Outcome'].values\n",
        "X_train, X_test, y_train, y_test = train_test_split(X, y, test_size=0.2, random_state=0)"
      ],
      "metadata": {
        "id": "ZN1M6LO4_zyO"
      },
      "execution_count": 5,
      "outputs": []
    },
    {
      "cell_type": "markdown",
      "source": [
        "**Convert data to tensor**"
      ],
      "metadata": {
        "id": "b4Klon6JLxja"
      }
    },
    {
      "cell_type": "code",
      "source": [
        "X_train = torch.FloatTensor(X_train)\n",
        "X_test = torch.FloatTensor(X_test)\n",
        "y_train = torch.LongTensor(y_train)\n",
        "y_test = torch.LongTensor(y_test)\n"
      ],
      "metadata": {
        "id": "_OyMZiI8_zzf"
      },
      "execution_count": 6,
      "outputs": []
    },
    {
      "cell_type": "code",
      "source": [
        ""
      ],
      "metadata": {
        "id": "qZ-F_U0m1xm_"
      },
      "execution_count": 6,
      "outputs": []
    },
    {
      "cell_type": "markdown",
      "source": [
        "**Build ANN** \n",
        "\n",
        "---\n",
        "\n",
        "\n",
        "The m parameter is introduced to allow the same ANN build to be used by for GridSearch and Non-GridSearch"
      ],
      "metadata": {
        "id": "vC7RumTJMB9f"
      }
    },
    {
      "cell_type": "code",
      "source": [
        "class ANN_Module(nn.Module):\n",
        "    def __init__(self, m, input_features=8, hidden1=20, hidden2=20, hidden3=20, output_features=2):\n",
        "        super(ANN_Module, self).__init__()\n",
        "        self.m = m\n",
        "        self.f_connected1 = nn.Linear(input_features, hidden1)\n",
        "        self.dropout = nn.Dropout(0.2)\n",
        "        self.f_connected2 = nn.Linear(hidden1, hidden2)\n",
        "        self.f_connected3 = nn.Linear(hidden2, hidden3)\n",
        "        self.out = nn.Linear(hidden3, output_features)\n",
        "        self.softmax = nn.Softmax(dim=-1)\n",
        "\n",
        "    def forward(self, x):\n",
        "        x = F.relu(self.f_connected1(x))\n",
        "        x = self.dropout(x)\n",
        "        x = F.relu(self.f_connected2(x))\n",
        "        x = self.dropout(x)\n",
        "        x = F.relu(self.f_connected3(x))\n",
        "        x = self.dropout(x)\n",
        "        if self.m == 'm':\n",
        "            x = self.out(x)\n",
        "            return x\n",
        "        if self.m == 'a':\n",
        "            x = self.softmax(self.out(x))\n",
        "            return x"
      ],
      "metadata": {
        "id": "IZlUROto_t2S"
      },
      "execution_count": 7,
      "outputs": []
    },
    {
      "cell_type": "markdown",
      "source": [
        "**Seed for reproducible results**"
      ],
      "metadata": {
        "id": "aBHhqb6WMIyV"
      }
    },
    {
      "cell_type": "code",
      "source": [
        "torch.manual_seed(20)"
      ],
      "metadata": {
        "colab": {
          "base_uri": "https://localhost:8080/"
        },
        "id": "BsZb6oY6_t3Z",
        "outputId": "de54edc9-e8e9-43ec-d336-e3ada2554925"
      },
      "execution_count": 8,
      "outputs": [
        {
          "output_type": "execute_result",
          "data": {
            "text/plain": [
              "<torch._C.Generator at 0x7f8653d88ab0>"
            ]
          },
          "metadata": {},
          "execution_count": 8
        }
      ]
    },
    {
      "cell_type": "code",
      "source": [
        ""
      ],
      "metadata": {
        "id": "3wOyuOuC2VGO"
      },
      "execution_count": 8,
      "outputs": []
    },
    {
      "cell_type": "markdown",
      "source": [
        "**Create the ANN model**"
      ],
      "metadata": {
        "id": "sjdXViIyMWZz"
      }
    },
    {
      "cell_type": "code",
      "source": [
        "# choose m='m' for non Grid Search\n",
        "model = ANN_Module(m='m')"
      ],
      "metadata": {
        "id": "1Mxo1FpkAl8f"
      },
      "execution_count": 9,
      "outputs": []
    },
    {
      "cell_type": "markdown",
      "source": [
        "**Summary of model parameters**"
      ],
      "metadata": {
        "id": "xQzD71XzMvvz"
      }
    },
    {
      "cell_type": "code",
      "source": [
        "print(model.parameters)"
      ],
      "metadata": {
        "colab": {
          "base_uri": "https://localhost:8080/"
        },
        "id": "XeSCmp9eAl9y",
        "outputId": "fd458e7b-8e21-4a0a-fae6-42297d206a6d"
      },
      "execution_count": 10,
      "outputs": [
        {
          "output_type": "stream",
          "name": "stdout",
          "text": [
            "<bound method Module.parameters of ANN_Module(\n",
            "  (f_connected1): Linear(in_features=8, out_features=20, bias=True)\n",
            "  (dropout): Dropout(p=0.2, inplace=False)\n",
            "  (f_connected2): Linear(in_features=20, out_features=20, bias=True)\n",
            "  (f_connected3): Linear(in_features=20, out_features=20, bias=True)\n",
            "  (out): Linear(in_features=20, out_features=2, bias=True)\n",
            "  (softmax): Softmax(dim=-1)\n",
            ")>\n"
          ]
        }
      ]
    },
    {
      "cell_type": "markdown",
      "source": [
        "**Set loss function and optimizer**"
      ],
      "metadata": {
        "id": "Vou1CUzxNWCO"
      }
    },
    {
      "cell_type": "code",
      "source": [
        "loss_function = nn.CrossEntropyLoss()\n",
        "optimizer = torch.optim.Adam(model.parameters(), lr=0.01)"
      ],
      "metadata": {
        "id": "ucTzCfbyAmBj"
      },
      "execution_count": 11,
      "outputs": []
    },
    {
      "cell_type": "markdown",
      "source": [
        "**Train the ANN model using the train set**"
      ],
      "metadata": {
        "id": "9Co3vVN4NVRJ"
      }
    },
    {
      "cell_type": "code",
      "source": [
        "epoch = 500\n",
        "final_losses = []\n",
        "for i in range(epoch):\n",
        "    i = i + 1\n",
        "    y_pred = model.forward(X_train)\n",
        "    loss = loss_function(y_pred, y_train)\n",
        "    final_losses.append(loss)\n",
        "    if i % 10 == 1:\n",
        "        print('Epoch number:{} and the loss:{}'.format(i, loss.item()))\n",
        "    optimizer.zero_grad()\n",
        "    loss.backward()\n",
        "    optimizer.step()\n",
        " "
      ],
      "metadata": {
        "colab": {
          "base_uri": "https://localhost:8080/"
        },
        "id": "4qIkLNoRAmC8",
        "outputId": "bcfa8f83-1f8c-4849-9593-f4bc241496b9"
      },
      "execution_count": 12,
      "outputs": [
        {
          "output_type": "stream",
          "name": "stdout",
          "text": [
            "Epoch number:1 and the loss:1.497496247291565\n",
            "Epoch number:11 and the loss:0.6851723194122314\n",
            "Epoch number:21 and the loss:0.6576101183891296\n",
            "Epoch number:31 and the loss:0.6379138827323914\n",
            "Epoch number:41 and the loss:0.6259263157844543\n",
            "Epoch number:51 and the loss:0.6215735673904419\n",
            "Epoch number:61 and the loss:0.6067336797714233\n",
            "Epoch number:71 and the loss:0.5904703140258789\n",
            "Epoch number:81 and the loss:0.5894325375556946\n",
            "Epoch number:91 and the loss:0.5959255695343018\n",
            "Epoch number:101 and the loss:0.5753591060638428\n",
            "Epoch number:111 and the loss:0.5672772526741028\n",
            "Epoch number:121 and the loss:0.5664903521537781\n",
            "Epoch number:131 and the loss:0.5772939920425415\n",
            "Epoch number:141 and the loss:0.554319441318512\n",
            "Epoch number:151 and the loss:0.5484814047813416\n",
            "Epoch number:161 and the loss:0.5689600110054016\n",
            "Epoch number:171 and the loss:0.562962532043457\n",
            "Epoch number:181 and the loss:0.5461196899414062\n",
            "Epoch number:191 and the loss:0.5267633199691772\n",
            "Epoch number:201 and the loss:0.5369287133216858\n",
            "Epoch number:211 and the loss:0.5169522762298584\n",
            "Epoch number:221 and the loss:0.5297514200210571\n",
            "Epoch number:231 and the loss:0.5635640621185303\n",
            "Epoch number:241 and the loss:0.5269687175750732\n",
            "Epoch number:251 and the loss:0.5277988314628601\n",
            "Epoch number:261 and the loss:0.5202195644378662\n",
            "Epoch number:271 and the loss:0.5151527523994446\n",
            "Epoch number:281 and the loss:0.524500846862793\n",
            "Epoch number:291 and the loss:0.5198014974594116\n",
            "Epoch number:301 and the loss:0.5165817141532898\n",
            "Epoch number:311 and the loss:0.5113912224769592\n",
            "Epoch number:321 and the loss:0.5135104060173035\n",
            "Epoch number:331 and the loss:0.5136076807975769\n",
            "Epoch number:341 and the loss:0.5015414953231812\n",
            "Epoch number:351 and the loss:0.5077689290046692\n",
            "Epoch number:361 and the loss:0.5178748965263367\n",
            "Epoch number:371 and the loss:0.49931564927101135\n",
            "Epoch number:381 and the loss:0.4996834397315979\n",
            "Epoch number:391 and the loss:0.4901126027107239\n",
            "Epoch number:401 and the loss:0.5148293972015381\n",
            "Epoch number:411 and the loss:0.5110960602760315\n",
            "Epoch number:421 and the loss:0.49422764778137207\n",
            "Epoch number:431 and the loss:0.5169789791107178\n",
            "Epoch number:441 and the loss:0.4940217435359955\n",
            "Epoch number:451 and the loss:0.45829886198043823\n",
            "Epoch number:461 and the loss:0.5048494338989258\n",
            "Epoch number:471 and the loss:0.49467965960502625\n",
            "Epoch number:481 and the loss:0.47786596417427063\n",
            "Epoch number:491 and the loss:0.4930838346481323\n"
          ]
        }
      ]
    },
    {
      "cell_type": "markdown",
      "source": [
        "**Visualize training performance**"
      ],
      "metadata": {
        "id": "9h6-v9XjN2R7"
      }
    },
    {
      "cell_type": "code",
      "source": [
        "plt.rcParams[\"figure.figsize\"] = (12,5)\n",
        "final_losses = torch.tensor(final_losses,requires_grad=True)\n",
        "final_losses = final_losses.detach().numpy()\n",
        "plt.plot(range(epoch), final_losses,)\n",
        "plt.ylabel('Train Loss')\n",
        "plt.xlabel('Number of epochs')"
      ],
      "metadata": {
        "colab": {
          "base_uri": "https://localhost:8080/",
          "height": 351
        },
        "id": "hsuAM5EpAmGP",
        "outputId": "cfb0681c-6175-4665-e81f-624483fdce11"
      },
      "execution_count": 13,
      "outputs": [
        {
          "output_type": "execute_result",
          "data": {
            "text/plain": [
              "Text(0.5, 0, 'Number of epochs')"
            ]
          },
          "metadata": {},
          "execution_count": 13
        },
        {
          "output_type": "display_data",
          "data": {
            "text/plain": [
              "<Figure size 864x360 with 1 Axes>"
            ],
            "image/png": "[encoded data removed]"
          },
          "metadata": {
            "needs_background": "light"
          }
        }
      ]
    },
    {
      "cell_type": "markdown",
      "source": [
        "**Make Predictions using the ANN model**"
      ],
      "metadata": {
        "id": "_r6KVscEOCAY"
      }
    },
    {
      "cell_type": "code",
      "source": [
        "final_prediction = []\n",
        "with torch.no_grad():\n",
        "    for i, datas in enumerate(X_test):\n",
        "        y_pred = model(datas)\n",
        "        final_prediction.append(y_pred.argmax().item())\n",
        "final_prediction = torch.tensor(final_prediction)\n",
        "print(final_prediction)\n",
        "print(y_test)"
      ],
      "metadata": {
        "colab": {
          "base_uri": "https://localhost:8080/"
        },
        "id": "MxJsMDxtAmHj",
        "outputId": "732a2ba4-39d3-4a80-eef2-4e38fb41b40d"
      },
      "execution_count": 14,
      "outputs": [
        {
          "output_type": "stream",
          "name": "stdout",
          "text": [
            "tensor([1, 0, 0, 1, 0, 0, 1, 1, 0, 0, 1, 1, 0, 0, 0, 0, 0, 0, 0, 0, 1, 0, 1, 0,\n",
            "        0, 0, 0, 1, 0, 0, 1, 0, 0, 0, 0, 1, 0, 0, 0, 1, 0, 0, 0, 1, 1, 0, 0, 0,\n",
            "        0, 0, 1, 0, 1, 1, 0, 1, 0, 0, 0, 0, 1, 1, 0, 1, 1, 1, 1, 0, 0, 0, 0, 1,\n",
            "        0, 1, 1, 0, 0, 1, 0, 0, 0, 0, 0, 0, 0, 0, 1, 0, 1, 0, 0, 0, 0, 0, 1, 0,\n",
            "        0, 0, 0, 0, 0, 0, 0, 0, 1, 1, 0, 0, 0, 1, 0, 0, 1, 0, 0, 1, 0, 1, 0, 1,\n",
            "        0, 0, 0, 0, 0, 0, 0, 0, 0, 0, 0, 0, 0, 0, 0, 0, 0, 1, 1, 0, 0, 1, 0, 0,\n",
            "        1, 0, 0, 0, 0, 0, 0, 0, 0, 0])\n",
            "tensor([1, 0, 0, 1, 0, 0, 1, 1, 0, 0, 1, 1, 0, 0, 0, 0, 1, 0, 0, 0, 1, 1, 0, 0,\n",
            "        0, 0, 0, 0, 0, 0, 0, 0, 0, 0, 0, 1, 1, 0, 0, 0, 0, 0, 0, 1, 1, 0, 0, 1,\n",
            "        1, 1, 0, 0, 1, 0, 0, 0, 0, 1, 1, 1, 1, 0, 0, 1, 1, 1, 1, 0, 0, 0, 0, 0,\n",
            "        0, 0, 1, 0, 0, 0, 0, 0, 0, 0, 0, 0, 0, 0, 1, 0, 1, 0, 0, 0, 0, 0, 0, 0,\n",
            "        1, 0, 1, 1, 0, 0, 0, 0, 0, 1, 0, 0, 0, 1, 0, 1, 1, 1, 1, 1, 0, 0, 0, 1,\n",
            "        0, 0, 0, 0, 0, 0, 0, 1, 0, 0, 0, 0, 0, 1, 0, 1, 0, 1, 1, 0, 0, 0, 0, 0,\n",
            "        1, 0, 0, 0, 0, 1, 0, 1, 0, 0])\n"
          ]
        }
      ]
    },
    {
      "cell_type": "markdown",
      "source": [
        "**Accuracy of the model for the test set**"
      ],
      "metadata": {
        "id": "CLi9VDkaOjSz"
      }
    },
    {
      "cell_type": "code",
      "source": [
        "acc = accuracy_score(y_test, final_prediction)\n",
        "print(acc)"
      ],
      "metadata": {
        "colab": {
          "base_uri": "https://localhost:8080/"
        },
        "id": "x9_UyPdEAmLJ",
        "outputId": "4789241a-2447-4b77-bd5c-fc0eecd86080"
      },
      "execution_count": 15,
      "outputs": [
        {
          "output_type": "stream",
          "name": "stdout",
          "text": [
            "0.7727272727272727\n"
          ]
        }
      ]
    },
    {
      "cell_type": "markdown",
      "source": [
        "**Summary of confusion matrix**"
      ],
      "metadata": {
        "id": "4-cCEwZJOspJ"
      }
    },
    {
      "cell_type": "code",
      "source": [
        "cm = confusion_matrix(y_test, final_prediction)\n",
        "print(cm)\n"
      ],
      "metadata": {
        "colab": {
          "base_uri": "https://localhost:8080/"
        },
        "id": "FSxh6f6QAmMV",
        "outputId": "4d04e31b-64c8-4a9f-9a1e-2aae20a03805"
      },
      "execution_count": 16,
      "outputs": [
        {
          "output_type": "stream",
          "name": "stdout",
          "text": [
            "[[92 15]\n",
            " [20 27]]\n"
          ]
        }
      ]
    },
    {
      "cell_type": "markdown",
      "source": [
        "**Visualize the confusion matrix**"
      ],
      "metadata": {
        "id": "cEsO66rLO9Wl"
      }
    },
    {
      "cell_type": "code",
      "source": [
        "plt.figure(figsize=(10, 6))\n",
        "sns.heatmap(cm, annot=True)\n",
        "plt.show()"
      ],
      "metadata": {
        "colab": {
          "base_uri": "https://localhost:8080/",
          "height": 374
        },
        "id": "q7MM1SkEBUHG",
        "outputId": "297a65f2-d89d-4af4-9027-393568194c8b"
      },
      "execution_count": 17,
      "outputs": [
        {
          "output_type": "display_data",
          "data": {
            "text/plain": [
              "<Figure size 720x432 with 2 Axes>"
            ],
            "image/png": "[encoded data removed]"
          },
          "metadata": {
            "needs_background": "light"
          }
        }
      ]
    },
    {
      "cell_type": "markdown",
      "source": [
        "**Save model**"
      ],
      "metadata": {
        "id": "3Jj-eWjCPO8c"
      }
    },
    {
      "cell_type": "code",
      "source": [
        "torch.save(model, 'diabetes.pt')"
      ],
      "metadata": {
        "id": "5D2sw51pBUIY"
      },
      "execution_count": 18,
      "outputs": []
    },
    {
      "cell_type": "markdown",
      "source": [
        "**Load model**"
      ],
      "metadata": {
        "id": "87Nz1ekGPV3b"
      }
    },
    {
      "cell_type": "code",
      "source": [
        "model1 = torch.load('diabetes.pt')"
      ],
      "metadata": {
        "id": "ZIAlt5QJBUMM"
      },
      "execution_count": 19,
      "outputs": []
    },
    {
      "cell_type": "markdown",
      "source": [
        "**Summary of model evaluation**"
      ],
      "metadata": {
        "id": "AgrZoxAgPiJl"
      }
    },
    {
      "cell_type": "code",
      "source": [
        "print(model.eval())\n"
      ],
      "metadata": {
        "colab": {
          "base_uri": "https://localhost:8080/"
        },
        "id": "vPW-p2QqBUNh",
        "outputId": "f261e34e-7b78-471e-941c-242d9a2c0aad"
      },
      "execution_count": 20,
      "outputs": [
        {
          "output_type": "stream",
          "name": "stdout",
          "text": [
            "ANN_Module(\n",
            "  (f_connected1): Linear(in_features=8, out_features=20, bias=True)\n",
            "  (dropout): Dropout(p=0.2, inplace=False)\n",
            "  (f_connected2): Linear(in_features=20, out_features=20, bias=True)\n",
            "  (f_connected3): Linear(in_features=20, out_features=20, bias=True)\n",
            "  (out): Linear(in_features=20, out_features=2, bias=True)\n",
            "  (softmax): Softmax(dim=-1)\n",
            ")\n"
          ]
        }
      ]
    },
    {
      "cell_type": "markdown",
      "source": [
        "**Predict using saved model**"
      ],
      "metadata": {
        "id": "IAedM8F4P1aK"
      }
    },
    {
      "cell_type": "code",
      "source": [
        "# predict using the saved model\n",
        "new_data = X[2:10]\n",
        "new_data = torch.FloatTensor(new_data)\n",
        "pred = [model1(data).argmax().item() for data in new_data]\n",
        "print(pred)"
      ],
      "metadata": {
        "colab": {
          "base_uri": "https://localhost:8080/"
        },
        "id": "unXpMRCfBUR3",
        "outputId": "a4acd66f-c0b6-46fd-eab0-96df33ebda14"
      },
      "execution_count": 21,
      "outputs": [
        {
          "output_type": "stream",
          "name": "stdout",
          "text": [
            "[1, 0, 1, 0, 0, 1, 1, 1]\n"
          ]
        }
      ]
    },
    {
      "cell_type": "markdown",
      "source": [
        ""
      ],
      "metadata": {
        "id": "8qjzreGJcK0L"
      }
    },
    {
      "cell_type": "markdown",
      "source": [
        "**Automate the ANN for optimal hyperparameter search**"
      ],
      "metadata": {
        "id": "1oaSv8a9QET6"
      }
    },
    {
      "cell_type": "code",
      "source": [
        "net = NeuralNetClassifier(\n",
        "    ANN_Module(m='a'),\n",
        "    max_epochs=10,\n",
        "    lr=0.1,\n",
        "    # optimizer=torch.optim.Adam, criterion=torch.nn.CrossEntropyLoss(),\n",
        "    # Shuffle training data on each epoch\n",
        "    iterator_train__shuffle=True,\n",
        ")\n"
      ],
      "metadata": {
        "id": "1vnVFNrdBqaM"
      },
      "execution_count": 22,
      "outputs": []
    },
    {
      "cell_type": "markdown",
      "source": [
        "**Fit to the train set**"
      ],
      "metadata": {
        "id": "jIbM0LAeQmrD"
      }
    },
    {
      "cell_type": "code",
      "source": [
        "net.fit(X_train, y_train)"
      ],
      "metadata": {
        "colab": {
          "base_uri": "https://localhost:8080/"
        },
        "id": "rQS9z0QABqbk",
        "outputId": "4b2240be-7beb-4ce5-cbe9-b9e1ba2110a3"
      },
      "execution_count": 23,
      "outputs": [
        {
          "output_type": "stream",
          "name": "stdout",
          "text": [
            "  epoch    train_loss    valid_acc    valid_loss     dur\n",
            "-------  ------------  -----------  ------------  ------\n",
            "      1        \u001b[36m1.8200\u001b[0m       \u001b[32m0.6585\u001b[0m        \u001b[35m0.6396\u001b[0m  0.0294\n",
            "      2        \u001b[36m0.6741\u001b[0m       0.6016        0.6493  0.0130\n",
            "      3        \u001b[36m0.6558\u001b[0m       0.6341        0.6440  0.0209\n",
            "      4        \u001b[36m0.6521\u001b[0m       0.6341        0.6406  0.0153\n",
            "      5        \u001b[36m0.6486\u001b[0m       0.6341        0.6467  0.0190\n",
            "      6        0.6509       0.6179        0.6578  0.0198\n",
            "      7        0.6581       0.6341        0.6434  0.0159\n",
            "      8        \u001b[36m0.6431\u001b[0m       0.6341        0.6416  0.0152\n",
            "      9        \u001b[36m0.6426\u001b[0m       0.6423        \u001b[35m0.6386\u001b[0m  0.0237\n",
            "     10        \u001b[36m0.6389\u001b[0m       \u001b[32m0.6748\u001b[0m        \u001b[35m0.6347\u001b[0m  0.0158\n"
          ]
        },
        {
          "output_type": "execute_result",
          "data": {
            "text/plain": [
              "<class 'skorch.classifier.NeuralNetClassifier'>[initialized](\n",
              "  module_=ANN_Module(\n",
              "    (f_connected1): Linear(in_features=8, out_features=20, bias=True)\n",
              "    (dropout): Dropout(p=0.2, inplace=False)\n",
              "    (f_connected2): Linear(in_features=20, out_features=20, bias=True)\n",
              "    (f_connected3): Linear(in_features=20, out_features=20, bias=True)\n",
              "    (out): Linear(in_features=20, out_features=2, bias=True)\n",
              "    (softmax): Softmax(dim=-1)\n",
              "  ),\n",
              ")"
            ]
          },
          "metadata": {},
          "execution_count": 23
        }
      ]
    },
    {
      "cell_type": "markdown",
      "source": [
        "**Set parameters for Grid search**"
      ],
      "metadata": {
        "id": "iwRfumatQ2pe"
      }
    },
    {
      "cell_type": "code",
      "source": [
        "from sklearn.model_selection import GridSearchCV\n",
        "net.set_params(train_split=False, verbose=0)\n",
        "params = {\n",
        "    'lr': [0.01, 0.02],\n",
        "    'max_epochs': [10, 500],\n",
        "    'module__hidden1': [20, 50],\n",
        "    'module__hidden2': [20, 50],\n",
        "    'module__hidden3': [20, 50],\n",
        "    'module__m': ['a'],\n",
        "}\n",
        "gs = GridSearchCV(net, params, refit=True, cv=3, scoring='accuracy', verbose=2)\n"
      ],
      "metadata": {
        "id": "5CP1G7b4BqfJ"
      },
      "execution_count": 24,
      "outputs": []
    },
    {
      "cell_type": "markdown",
      "source": [
        "**Fit the Grid Search to the train data**"
      ],
      "metadata": {
        "id": "EOlZbNTsRFkq"
      }
    },
    {
      "cell_type": "code",
      "source": [
        "gs.fit(X_train, y_train)\n",
        "print(\"best score: {:.3f}, best params: {}\".format(gs.best_score_, gs.best_params_))\n"
      ],
      "metadata": {
        "colab": {
          "base_uri": "https://localhost:8080/"
        },
        "id": "1O6WCsbXBqgk",
        "outputId": "fd2c8e94-6ec2-4680-fb91-0b50146c1e33"
      },
      "execution_count": 25,
      "outputs": [
        {
          "output_type": "stream",
          "name": "stdout",
          "text": [
            "Fitting 3 folds for each of 32 candidates, totalling 96 fits\n",
            "[CV] END lr=0.01, max_epochs=10, module__hidden1=20, module__hidden2=20, module__hidden3=20, module__m=a; total time=   0.1s\n",
            "[CV] END lr=0.01, max_epochs=10, module__hidden1=20, module__hidden2=20, module__hidden3=20, module__m=a; total time=   0.1s\n",
            "[CV] END lr=0.01, max_epochs=10, module__hidden1=20, module__hidden2=20, module__hidden3=20, module__m=a; total time=   0.1s\n",
            "[CV] END lr=0.01, max_epochs=10, module__hidden1=20, module__hidden2=20, module__hidden3=50, module__m=a; total time=   0.1s\n",
            "[CV] END lr=0.01, max_epochs=10, module__hidden1=20, module__hidden2=20, module__hidden3=50, module__m=a; total time=   0.1s\n",
            "[CV] END lr=0.01, max_epochs=10, module__hidden1=20, module__hidden2=20, module__hidden3=50, module__m=a; total time=   0.1s\n",
            "[CV] END lr=0.01, max_epochs=10, module__hidden1=20, module__hidden2=50, module__hidden3=20, module__m=a; total time=   0.1s\n",
            "[CV] END lr=0.01, max_epochs=10, module__hidden1=20, module__hidden2=50, module__hidden3=20, module__m=a; total time=   0.1s\n",
            "[CV] END lr=0.01, max_epochs=10, module__hidden1=20, module__hidden2=50, module__hidden3=20, module__m=a; total time=   0.1s\n",
            "[CV] END lr=0.01, max_epochs=10, module__hidden1=20, module__hidden2=50, module__hidden3=50, module__m=a; total time=   0.1s\n",
            "[CV] END lr=0.01, max_epochs=10, module__hidden1=20, module__hidden2=50, module__hidden3=50, module__m=a; total time=   0.1s\n",
            "[CV] END lr=0.01, max_epochs=10, module__hidden1=20, module__hidden2=50, module__hidden3=50, module__m=a; total time=   0.1s\n",
            "[CV] END lr=0.01, max_epochs=10, module__hidden1=50, module__hidden2=20, module__hidden3=20, module__m=a; total time=   0.2s\n",
            "[CV] END lr=0.01, max_epochs=10, module__hidden1=50, module__hidden2=20, module__hidden3=20, module__m=a; total time=   0.2s\n",
            "[CV] END lr=0.01, max_epochs=10, module__hidden1=50, module__hidden2=20, module__hidden3=20, module__m=a; total time=   0.1s\n",
            "[CV] END lr=0.01, max_epochs=10, module__hidden1=50, module__hidden2=20, module__hidden3=50, module__m=a; total time=   0.1s\n",
            "[CV] END lr=0.01, max_epochs=10, module__hidden1=50, module__hidden2=20, module__hidden3=50, module__m=a; total time=   0.1s\n",
            "[CV] END lr=0.01, max_epochs=10, module__hidden1=50, module__hidden2=20, module__hidden3=50, module__m=a; total time=   0.1s\n",
            "[CV] END lr=0.01, max_epochs=10, module__hidden1=50, module__hidden2=50, module__hidden3=20, module__m=a; total time=   0.1s\n",
            "[CV] END lr=0.01, max_epochs=10, module__hidden1=50, module__hidden2=50, module__hidden3=20, module__m=a; total time=   0.1s\n",
            "[CV] END lr=0.01, max_epochs=10, module__hidden1=50, module__hidden2=50, module__hidden3=20, module__m=a; total time=   0.1s\n",
            "[CV] END lr=0.01, max_epochs=10, module__hidden1=50, module__hidden2=50, module__hidden3=50, module__m=a; total time=   0.1s\n",
            "[CV] END lr=0.01, max_epochs=10, module__hidden1=50, module__hidden2=50, module__hidden3=50, module__m=a; total time=   0.1s\n",
            "[CV] END lr=0.01, max_epochs=10, module__hidden1=50, module__hidden2=50, module__hidden3=50, module__m=a; total time=   0.1s\n",
            "[CV] END lr=0.01, max_epochs=500, module__hidden1=20, module__hidden2=20, module__hidden3=20, module__m=a; total time=   8.9s\n",
            "[CV] END lr=0.01, max_epochs=500, module__hidden1=20, module__hidden2=20, module__hidden3=20, module__m=a; total time=  10.9s\n",
            "[CV] END lr=0.01, max_epochs=500, module__hidden1=20, module__hidden2=20, module__hidden3=20, module__m=a; total time=  10.8s\n",
            "[CV] END lr=0.01, max_epochs=500, module__hidden1=20, module__hidden2=20, module__hidden3=50, module__m=a; total time=   5.1s\n",
            "[CV] END lr=0.01, max_epochs=500, module__hidden1=20, module__hidden2=20, module__hidden3=50, module__m=a; total time=   5.2s\n",
            "[CV] END lr=0.01, max_epochs=500, module__hidden1=20, module__hidden2=20, module__hidden3=50, module__m=a; total time=   5.2s\n",
            "[CV] END lr=0.01, max_epochs=500, module__hidden1=20, module__hidden2=50, module__hidden3=20, module__m=a; total time=   5.1s\n",
            "[CV] END lr=0.01, max_epochs=500, module__hidden1=20, module__hidden2=50, module__hidden3=20, module__m=a; total time=   5.1s\n",
            "[CV] END lr=0.01, max_epochs=500, module__hidden1=20, module__hidden2=50, module__hidden3=20, module__m=a; total time=   5.1s\n",
            "[CV] END lr=0.01, max_epochs=500, module__hidden1=20, module__hidden2=50, module__hidden3=50, module__m=a; total time=   5.2s\n",
            "[CV] END lr=0.01, max_epochs=500, module__hidden1=20, module__hidden2=50, module__hidden3=50, module__m=a; total time=   5.2s\n",
            "[CV] END lr=0.01, max_epochs=500, module__hidden1=20, module__hidden2=50, module__hidden3=50, module__m=a; total time=   5.2s\n",
            "[CV] END lr=0.01, max_epochs=500, module__hidden1=50, module__hidden2=20, module__hidden3=20, module__m=a; total time=   5.1s\n",
            "[CV] END lr=0.01, max_epochs=500, module__hidden1=50, module__hidden2=20, module__hidden3=20, module__m=a; total time=   5.1s\n",
            "[CV] END lr=0.01, max_epochs=500, module__hidden1=50, module__hidden2=20, module__hidden3=20, module__m=a; total time=   5.1s\n",
            "[CV] END lr=0.01, max_epochs=500, module__hidden1=50, module__hidden2=20, module__hidden3=50, module__m=a; total time=   7.1s\n",
            "[CV] END lr=0.01, max_epochs=500, module__hidden1=50, module__hidden2=20, module__hidden3=50, module__m=a; total time=   5.9s\n",
            "[CV] END lr=0.01, max_epochs=500, module__hidden1=50, module__hidden2=20, module__hidden3=50, module__m=a; total time=  10.8s\n",
            "[CV] END lr=0.01, max_epochs=500, module__hidden1=50, module__hidden2=50, module__hidden3=20, module__m=a; total time=   5.2s\n",
            "[CV] END lr=0.01, max_epochs=500, module__hidden1=50, module__hidden2=50, module__hidden3=20, module__m=a; total time=   5.3s\n",
            "[CV] END lr=0.01, max_epochs=500, module__hidden1=50, module__hidden2=50, module__hidden3=20, module__m=a; total time=   5.2s\n",
            "[CV] END lr=0.01, max_epochs=500, module__hidden1=50, module__hidden2=50, module__hidden3=50, module__m=a; total time=   5.3s\n",
            "[CV] END lr=0.01, max_epochs=500, module__hidden1=50, module__hidden2=50, module__hidden3=50, module__m=a; total time=   5.3s\n",
            "[CV] END lr=0.01, max_epochs=500, module__hidden1=50, module__hidden2=50, module__hidden3=50, module__m=a; total time=   5.3s\n",
            "[CV] END lr=0.02, max_epochs=10, module__hidden1=20, module__hidden2=20, module__hidden3=20, module__m=a; total time=   0.1s\n",
            "[CV] END lr=0.02, max_epochs=10, module__hidden1=20, module__hidden2=20, module__hidden3=20, module__m=a; total time=   0.1s\n",
            "[CV] END lr=0.02, max_epochs=10, module__hidden1=20, module__hidden2=20, module__hidden3=20, module__m=a; total time=   0.1s\n",
            "[CV] END lr=0.02, max_epochs=10, module__hidden1=20, module__hidden2=20, module__hidden3=50, module__m=a; total time=   0.1s\n",
            "[CV] END lr=0.02, max_epochs=10, module__hidden1=20, module__hidden2=20, module__hidden3=50, module__m=a; total time=   0.1s\n",
            "[CV] END lr=0.02, max_epochs=10, module__hidden1=20, module__hidden2=20, module__hidden3=50, module__m=a; total time=   0.1s\n",
            "[CV] END lr=0.02, max_epochs=10, module__hidden1=20, module__hidden2=50, module__hidden3=20, module__m=a; total time=   0.1s\n",
            "[CV] END lr=0.02, max_epochs=10, module__hidden1=20, module__hidden2=50, module__hidden3=20, module__m=a; total time=   0.1s\n",
            "[CV] END lr=0.02, max_epochs=10, module__hidden1=20, module__hidden2=50, module__hidden3=20, module__m=a; total time=   0.1s\n",
            "[CV] END lr=0.02, max_epochs=10, module__hidden1=20, module__hidden2=50, module__hidden3=50, module__m=a; total time=   0.1s\n",
            "[CV] END lr=0.02, max_epochs=10, module__hidden1=20, module__hidden2=50, module__hidden3=50, module__m=a; total time=   0.1s\n",
            "[CV] END lr=0.02, max_epochs=10, module__hidden1=20, module__hidden2=50, module__hidden3=50, module__m=a; total time=   0.1s\n",
            "[CV] END lr=0.02, max_epochs=10, module__hidden1=50, module__hidden2=20, module__hidden3=20, module__m=a; total time=   0.1s\n",
            "[CV] END lr=0.02, max_epochs=10, module__hidden1=50, module__hidden2=20, module__hidden3=20, module__m=a; total time=   0.1s\n",
            "[CV] END lr=0.02, max_epochs=10, module__hidden1=50, module__hidden2=20, module__hidden3=20, module__m=a; total time=   0.1s\n",
            "[CV] END lr=0.02, max_epochs=10, module__hidden1=50, module__hidden2=20, module__hidden3=50, module__m=a; total time=   0.1s\n",
            "[CV] END lr=0.02, max_epochs=10, module__hidden1=50, module__hidden2=20, module__hidden3=50, module__m=a; total time=   0.1s\n",
            "[CV] END lr=0.02, max_epochs=10, module__hidden1=50, module__hidden2=20, module__hidden3=50, module__m=a; total time=   0.1s\n",
            "[CV] END lr=0.02, max_epochs=10, module__hidden1=50, module__hidden2=50, module__hidden3=20, module__m=a; total time=   0.1s\n",
            "[CV] END lr=0.02, max_epochs=10, module__hidden1=50, module__hidden2=50, module__hidden3=20, module__m=a; total time=   0.1s\n",
            "[CV] END lr=0.02, max_epochs=10, module__hidden1=50, module__hidden2=50, module__hidden3=20, module__m=a; total time=   0.1s\n",
            "[CV] END lr=0.02, max_epochs=10, module__hidden1=50, module__hidden2=50, module__hidden3=50, module__m=a; total time=   0.1s\n",
            "[CV] END lr=0.02, max_epochs=10, module__hidden1=50, module__hidden2=50, module__hidden3=50, module__m=a; total time=   0.1s\n",
            "[CV] END lr=0.02, max_epochs=10, module__hidden1=50, module__hidden2=50, module__hidden3=50, module__m=a; total time=   0.1s\n",
            "[CV] END lr=0.02, max_epochs=500, module__hidden1=20, module__hidden2=20, module__hidden3=20, module__m=a; total time=   5.1s\n",
            "[CV] END lr=0.02, max_epochs=500, module__hidden1=20, module__hidden2=20, module__hidden3=20, module__m=a; total time=   5.1s\n",
            "[CV] END lr=0.02, max_epochs=500, module__hidden1=20, module__hidden2=20, module__hidden3=20, module__m=a; total time=   5.0s\n",
            "[CV] END lr=0.02, max_epochs=500, module__hidden1=20, module__hidden2=20, module__hidden3=50, module__m=a; total time=   5.1s\n",
            "[CV] END lr=0.02, max_epochs=500, module__hidden1=20, module__hidden2=20, module__hidden3=50, module__m=a; total time=   5.1s\n",
            "[CV] END lr=0.02, max_epochs=500, module__hidden1=20, module__hidden2=20, module__hidden3=50, module__m=a; total time=   5.2s\n",
            "[CV] END lr=0.02, max_epochs=500, module__hidden1=20, module__hidden2=50, module__hidden3=20, module__m=a; total time=   5.2s\n",
            "[CV] END lr=0.02, max_epochs=500, module__hidden1=20, module__hidden2=50, module__hidden3=20, module__m=a; total time=   5.2s\n",
            "[CV] END lr=0.02, max_epochs=500, module__hidden1=20, module__hidden2=50, module__hidden3=20, module__m=a; total time=   5.6s\n",
            "[CV] END lr=0.02, max_epochs=500, module__hidden1=20, module__hidden2=50, module__hidden3=50, module__m=a; total time=   6.0s\n",
            "[CV] END lr=0.02, max_epochs=500, module__hidden1=20, module__hidden2=50, module__hidden3=50, module__m=a; total time=   5.3s\n",
            "[CV] END lr=0.02, max_epochs=500, module__hidden1=20, module__hidden2=50, module__hidden3=50, module__m=a; total time=   5.2s\n",
            "[CV] END lr=0.02, max_epochs=500, module__hidden1=50, module__hidden2=20, module__hidden3=20, module__m=a; total time=   5.1s\n",
            "[CV] END lr=0.02, max_epochs=500, module__hidden1=50, module__hidden2=20, module__hidden3=20, module__m=a; total time=   5.2s\n",
            "[CV] END lr=0.02, max_epochs=500, module__hidden1=50, module__hidden2=20, module__hidden3=20, module__m=a; total time=   5.2s\n",
            "[CV] END lr=0.02, max_epochs=500, module__hidden1=50, module__hidden2=20, module__hidden3=50, module__m=a; total time=   5.2s\n",
            "[CV] END lr=0.02, max_epochs=500, module__hidden1=50, module__hidden2=20, module__hidden3=50, module__m=a; total time=   5.2s\n",
            "[CV] END lr=0.02, max_epochs=500, module__hidden1=50, module__hidden2=20, module__hidden3=50, module__m=a; total time=   5.3s\n",
            "[CV] END lr=0.02, max_epochs=500, module__hidden1=50, module__hidden2=50, module__hidden3=20, module__m=a; total time=   5.2s\n",
            "[CV] END lr=0.02, max_epochs=500, module__hidden1=50, module__hidden2=50, module__hidden3=20, module__m=a; total time=   5.2s\n",
            "[CV] END lr=0.02, max_epochs=500, module__hidden1=50, module__hidden2=50, module__hidden3=20, module__m=a; total time=   5.2s\n",
            "[CV] END lr=0.02, max_epochs=500, module__hidden1=50, module__hidden2=50, module__hidden3=50, module__m=a; total time=   5.3s\n",
            "[CV] END lr=0.02, max_epochs=500, module__hidden1=50, module__hidden2=50, module__hidden3=50, module__m=a; total time=   5.3s\n",
            "[CV] END lr=0.02, max_epochs=500, module__hidden1=50, module__hidden2=50, module__hidden3=50, module__m=a; total time=   5.3s\n",
            "best score: 0.718, best params: {'lr': 0.01, 'max_epochs': 500, 'module__hidden1': 20, 'module__hidden2': 20, 'module__hidden3': 50, 'module__m': 'a'}\n"
          ]
        }
      ]
    },
    {
      "cell_type": "markdown",
      "source": [
        "**Predict using the test set**"
      ],
      "metadata": {
        "id": "4bvfTQrtRq9e"
      }
    },
    {
      "cell_type": "code",
      "source": [
        "y_pred = gs.predict(X_test)\n",
        "print(accuracy_score(y_test, y_pred))\n"
      ],
      "metadata": {
        "colab": {
          "base_uri": "https://localhost:8080/"
        },
        "id": "tu9fGKcbBqlG",
        "outputId": "ea44ac44-566e-4f65-c324-96260a80c9e9"
      },
      "execution_count": 26,
      "outputs": [
        {
          "output_type": "stream",
          "name": "stdout",
          "text": [
            "0.7402597402597403\n"
          ]
        }
      ]
    },
    {
      "cell_type": "markdown",
      "source": [
        "**Save the ANN model for the GridSearch**"
      ],
      "metadata": {
        "id": "5mWTlWsXR7EX"
      }
    },
    {
      "cell_type": "code",
      "source": [
        "torch.save(gs,'gs_ann.pt')"
      ],
      "metadata": {
        "id": "UmpkH-66SLPw"
      },
      "execution_count": 27,
      "outputs": []
    },
    {
      "cell_type": "markdown",
      "source": [
        "**Load saved model**"
      ],
      "metadata": {
        "id": "YIheYNscSYtO"
      }
    },
    {
      "cell_type": "code",
      "source": [
        "model2 = torch.load('gs_ann.pt')"
      ],
      "metadata": {
        "id": "_eIUlF5CSfKg"
      },
      "execution_count": 28,
      "outputs": []
    },
    {
      "cell_type": "markdown",
      "source": [
        "**Predict using the saved model**"
      ],
      "metadata": {
        "id": "hCAI7cSLTWwf"
      }
    },
    {
      "cell_type": "code",
      "source": [
        "new_data = X[2:10]\n",
        "new_data = torch.FloatTensor(new_data)\n",
        "pred = model2.predict(new_data)\n",
        "pred"
      ],
      "metadata": {
        "colab": {
          "base_uri": "https://localhost:8080/"
        },
        "id": "ZYfY9IE3SoE3",
        "outputId": "4ae9ff6d-3235-4d33-a080-af35bcdca31f"
      },
      "execution_count": 29,
      "outputs": [
        {
          "output_type": "execute_result",
          "data": {
            "text/plain": [
              "array([1, 0, 1, 0, 0, 1, 1, 0])"
            ]
          },
          "metadata": {},
          "execution_count": 29
        }
      ]
    }
  ]
}